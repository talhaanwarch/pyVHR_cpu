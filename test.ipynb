{
  "cells": [
    {
      "cell_type": "markdown",
      "metadata": {
        "id": "view-in-github",
        "colab_type": "text"
      },
      "source": [
        "<a href=\"https://colab.research.google.com/github/talhaanwarch/pyVHR_cpu/blob/main/test.ipynb\" target=\"_parent\"><img src=\"https://colab.research.google.com/assets/colab-badge.svg\" alt=\"Open In Colab\"/></a>"
      ]
    },
    {
      "cell_type": "code",
      "source": [
        "## sample video\n",
        "!wget https://github.com/vladostan/Dataset-for-video-based-pulse-detection/blob/master/data/Video/p10_normal.MP4?raw=true -O video.MP4"
      ],
      "metadata": {
        "colab": {
          "base_uri": "https://localhost:8080/"
        },
        "id": "6Mg29hGrlvIT",
        "outputId": "a517a136-f682-45e4-911d-dd9e53cdae72"
      },
      "id": "6Mg29hGrlvIT",
      "execution_count": null,
      "outputs": [
        {
          "output_type": "stream",
          "name": "stdout",
          "text": [
            "--2023-02-18 17:39:43--  https://github.com/vladostan/Dataset-for-video-based-pulse-detection/blob/master/data/Video/p10_normal.MP4?raw=true\n",
            "Resolving github.com (github.com)... 140.82.112.3\n",
            "Connecting to github.com (github.com)|140.82.112.3|:443... connected.\n",
            "HTTP request sent, awaiting response... 302 Found\n",
            "Location: https://github.com/vladostan/Dataset-for-video-based-pulse-detection/raw/master/data/Video/p10_normal.MP4 [following]\n",
            "--2023-02-18 17:39:43--  https://github.com/vladostan/Dataset-for-video-based-pulse-detection/raw/master/data/Video/p10_normal.MP4\n",
            "Reusing existing connection to github.com:443.\n",
            "HTTP request sent, awaiting response... 302 Found\n",
            "Location: https://raw.githubusercontent.com/vladostan/Dataset-for-video-based-pulse-detection/master/data/Video/p10_normal.MP4 [following]\n",
            "--2023-02-18 17:39:43--  https://raw.githubusercontent.com/vladostan/Dataset-for-video-based-pulse-detection/master/data/Video/p10_normal.MP4\n",
            "Resolving raw.githubusercontent.com (raw.githubusercontent.com)... 185.199.108.133, 185.199.109.133, 185.199.110.133, ...\n",
            "Connecting to raw.githubusercontent.com (raw.githubusercontent.com)|185.199.108.133|:443... connected.\n",
            "HTTP request sent, awaiting response... 200 OK\n",
            "Length: 44686023 (43M) [application/octet-stream]\n",
            "Saving to: ‘video.MP4’\n",
            "\n",
            "video.MP4           100%[===================>]  42.62M   219MB/s    in 0.2s    \n",
            "\n",
            "2023-02-18 17:39:45 (219 MB/s) - ‘video.MP4’ saved [44686023/44686023]\n",
            "\n"
          ]
        }
      ]
    },
    {
      "cell_type": "code",
      "source": [
        "!pip install pyampd mediapipe lmfit autorank biosppy scikit_posthocs -q"
      ],
      "metadata": {
        "colab": {
          "base_uri": "https://localhost:8080/"
        },
        "id": "uNTLMPRhle2R",
        "outputId": "7d59b60f-09e3-44de-d326-25be47a23a78"
      },
      "id": "uNTLMPRhle2R",
      "execution_count": null,
      "outputs": [
        {
          "output_type": "stream",
          "name": "stdout",
          "text": [
            "\u001b[2K     \u001b[90m━━━━━━━━━━━━━━━━━━━━━━━━━━━━━━━━━━━━━━━━\u001b[0m \u001b[32m33.0/33.0 MB\u001b[0m \u001b[31m9.9 MB/s\u001b[0m eta \u001b[36m0:00:00\u001b[0m\n",
            "\u001b[2K     \u001b[90m━━━━━━━━━━━━━━━━━━━━━━━━━━━━━━━━━━━━━━━━\u001b[0m \u001b[32m90.4/90.4 KB\u001b[0m \u001b[31m5.4 MB/s\u001b[0m eta \u001b[36m0:00:00\u001b[0m\n",
            "\u001b[2K     \u001b[90m━━━━━━━━━━━━━━━━━━━━━━━━━━━━━━━━━━━━━━━\u001b[0m \u001b[32m107.0/107.0 KB\u001b[0m \u001b[31m5.0 MB/s\u001b[0m eta \u001b[36m0:00:00\u001b[0m\n",
            "\u001b[2K     \u001b[90m━━━━━━━━━━━━━━━━━━━━━━━━━━━━━━━━━━━━━━━━\u001b[0m \u001b[32m98.4/98.4 KB\u001b[0m \u001b[31m2.7 MB/s\u001b[0m eta \u001b[36m0:00:00\u001b[0m\n",
            "\u001b[?25h"
          ]
        }
      ]
    },
    {
      "cell_type": "code",
      "source": [
        "!git clone https://github.com/talhaanwarch/pyVHR_cpu.git"
      ],
      "metadata": {
        "colab": {
          "base_uri": "https://localhost:8080/"
        },
        "id": "pNP1qC8dkZjh",
        "outputId": "6e4a6f78-838b-4f67-ab88-a3c6eac78524"
      },
      "id": "pNP1qC8dkZjh",
      "execution_count": null,
      "outputs": [
        {
          "output_type": "stream",
          "name": "stdout",
          "text": [
            "Cloning into 'pyVHR_cpu'...\n",
            "remote: Enumerating objects: 364, done.\u001b[K\n",
            "remote: Counting objects: 100% (26/26), done.\u001b[K\n",
            "remote: Compressing objects: 100% (19/19), done.\u001b[K\n",
            "remote: Total 364 (delta 6), reused 16 (delta 4), pack-reused 338\u001b[K\n",
            "Receiving objects: 100% (364/364), 79.88 MiB | 23.46 MiB/s, done.\n",
            "Resolving deltas: 100% (150/150), done.\n",
            "Updating files: 100% (318/318), done.\n"
          ]
        }
      ]
    },
    {
      "cell_type": "code",
      "source": [
        "import sys\n",
        "sys.path.insert(0, \"pyVHR_cpu\")"
      ],
      "metadata": {
        "id": "Cgf14E0Ym_Q2"
      },
      "id": "Cgf14E0Ym_Q2",
      "execution_count": null,
      "outputs": []
    },
    {
      "cell_type": "code",
      "execution_count": null,
      "id": "2d656f72",
      "metadata": {
        "id": "2d656f72"
      },
      "outputs": [],
      "source": [
        "import pyVHR as vhr\n",
        "import numpy as np\n",
        "from pyVHR.analysis.pipeline import Pipeline\n",
        "from pyVHR.plot.visualize import *\n",
        "import os\n",
        "import plotly.express as px\n",
        "from pyVHR.utils.errors import getErrors, printErrors, displayErrors\n",
        "import math"
      ]
    },
    {
      "cell_type": "code",
      "execution_count": null,
      "id": "68fd795d",
      "metadata": {
        "id": "68fd795d"
      },
      "outputs": [],
      "source": [
        "def calc_RR(pulse, fs):\n",
        "    peaklist = pulse\n",
        "    measures={'RR_list':0,'RR_diff':0,'RR_sqdiff':0}\n",
        "    RR_list = []\n",
        "    cnt = 0\n",
        "    while (cnt < (len(peaklist)-1)):\n",
        "        RR_interval = (peaklist[cnt+1] - peaklist[cnt])\n",
        "        ms_dist = ((RR_interval / fs) * 1000.0) \n",
        "        RR_list.append(ms_dist)\n",
        "        cnt += 1\n",
        "    RR_diff = []\n",
        "    RR_sqdiff = []\n",
        "    cnt = 0 \n",
        "    while (cnt < (len(RR_list)-1)): \n",
        "        RR_diff.append(abs(RR_list[cnt] - RR_list[cnt+1])) \n",
        "        RR_sqdiff.append(math.pow(RR_list[cnt] - RR_list[cnt+1], 2))\n",
        "        cnt += 1\n",
        "    measures['RR_list'] = RR_list\n",
        "    measures['RR_diff'] = RR_diff\n",
        "    measures['RR_sqdiff'] = RR_sqdiff\n",
        "    return measures"
      ]
    },
    {
      "cell_type": "code",
      "execution_count": null,
      "id": "247c0078",
      "metadata": {
        "id": "247c0078"
      },
      "outputs": [],
      "source": [
        "from matplotlib import pyplot as plt"
      ]
    },
    {
      "cell_type": "code",
      "execution_count": null,
      "id": "d1a0dd47",
      "metadata": {
        "id": "d1a0dd47"
      },
      "outputs": [],
      "source": [
        "#methods: cpu_CHROM, cpu_LGI, cpu_POS, cpu_PBV, cpu_PCA, cpu_GREEN, cpu_OMIT, cpu_ICA, cpu_SSR"
      ]
    },
    {
      "cell_type": "code",
      "execution_count": null,
      "id": "0636db83",
      "metadata": {
        "colab": {
          "base_uri": "https://localhost:8080/"
        },
        "id": "0636db83",
        "outputId": "82e9667e-e143-475b-9eac-a5b7f0a56f40"
      },
      "outputs": [
        {
          "output_type": "stream",
          "name": "stdout",
          "text": [
            "\n",
            "Processing Video video.MP4\n",
            "\n",
            " Video FPS 25.0\n",
            "\n",
            "Roi processing...\n",
            " - Extraction approach: holistic\n",
            " - Number of windows: 14\n",
            " - Win size: (#ROI, #landmarks, #frames) =  (1, 3, 200)\n",
            "\n",
            "Pre filtering...\n",
            " - Pre-filter applied: BPfilter\n",
            "\n",
            "BVP extraction...\n",
            " - Extraction method: cpu_CHROM\n",
            " - Post-filter applied: BPfilter\n",
            "\n",
            "BPM estimation...\n",
            " - roi appproach: holistic\n",
            "\n",
            "...done!\n",
            "\n"
          ]
        }
      ],
      "source": [
        "#### TEST holistic approach\n",
        "\n",
        "# params\n",
        "roi_approach = 'holistic'   # 'holistic' or 'patches'\n",
        "bpm_est = 'median'         # BPM final estimate, if patches choose 'medians' or 'clustering'\n",
        "method = 'cpu_CHROM'       # one of the methods implemented in pyVHR\n",
        "pipe = Pipeline()          # object to execute the pipeline\n",
        "videoFileName= 'video.MP4' # name of video\n",
        "wsize = 8\n",
        "# run\n",
        "bvps, timesES, bpmES = pipe.run_on_video(videoFileName,\n",
        "                                        winsize=wsize, \n",
        "                                        roi_method='convexhull',\n",
        "                                        roi_approach=roi_approach,\n",
        "                                        method=method,\n",
        "                                        estimate=bpm_est,\n",
        "                                        patch_size=40, \n",
        "                                        RGB_LOW_HIGH_TH=(5,230),\n",
        "                                        Skin_LOW_HIGH_TH=(5,230),\n",
        "                                        pre_filt=True,\n",
        "                                        post_filt=True,\n",
        "                                        cuda=True, \n",
        "                                        verb=True\n",
        ")\n"
      ]
    },
    {
      "cell_type": "code",
      "execution_count": null,
      "id": "939720a3",
      "metadata": {
        "colab": {
          "base_uri": "https://localhost:8080/"
        },
        "id": "939720a3",
        "outputId": "4692abfd-defd-47f6-d226-85a0c806e598"
      },
      "outputs": [
        {
          "output_type": "execute_result",
          "data": {
            "text/plain": [
              "[82.03125,\n",
              " 82.03125,\n",
              " 82.03125,\n",
              " 82.76367,\n",
              " 82.03125,\n",
              " 81.29883,\n",
              " 81.29883,\n",
              " 80.56641,\n",
              " 79.10156,\n",
              " 79.10156,\n",
              " 79.833984,\n",
              " 83.49609,\n",
              " 85.69336,\n",
              " 85.69336]"
            ]
          },
          "metadata": {},
          "execution_count": 11
        }
      ],
      "source": [
        "bpmES"
      ]
    },
    {
      "cell_type": "code",
      "execution_count": null,
      "id": "1ed31804",
      "metadata": {
        "colab": {
          "base_uri": "https://localhost:8080/",
          "height": 282
        },
        "id": "1ed31804",
        "outputId": "e8e4651d-76e7-4210-89e2-0920cc033fca"
      },
      "outputs": [
        {
          "output_type": "execute_result",
          "data": {
            "text/plain": [
              "[<matplotlib.lines.Line2D at 0x7f8e4a824f70>]"
            ]
          },
          "metadata": {},
          "execution_count": 12
        },
        {
          "output_type": "display_data",
          "data": {
            "text/plain": [
              "<Figure size 432x288 with 1 Axes>"
            ],
            "image/png": "[encoded data removed]"
          },
          "metadata": {
            "needs_background": "light"
          }
        }
      ],
      "source": [
        "plt.plot(bvps[9][0])"
      ]
    },
    {
      "cell_type": "code",
      "execution_count": null,
      "id": "1654779a",
      "metadata": {
        "id": "1654779a"
      },
      "outputs": [],
      "source": []
    },
    {
      "cell_type": "code",
      "execution_count": null,
      "id": "88ade571",
      "metadata": {
        "id": "88ade571"
      },
      "outputs": [],
      "source": [
        "from pyampd.ampd import find_peaks_adaptive\n",
        "peaklist=find_peaks_adaptive(bvps[9][0])\n"
      ]
    },
    {
      "cell_type": "code",
      "execution_count": null,
      "id": "6f829087",
      "metadata": {
        "id": "6f829087"
      },
      "outputs": [],
      "source": [
        "RR_list=calc_RR(peaklist,fs=25)"
      ]
    },
    {
      "cell_type": "code",
      "execution_count": null,
      "id": "46570f48",
      "metadata": {
        "id": "46570f48"
      },
      "outputs": [],
      "source": [
        "def rmssd(x):\n",
        "    return np.sqrt(np.mean(np.diff(x) ** 2))\n",
        "def sdsd(x):\n",
        "    return st.stdev(np.diff(x))\n",
        "    \n",
        "def nni_50(x):\n",
        "    return  sum(np.abs(np.diff(x)) > 50)\n",
        "\n",
        "def pnni_50(x):\n",
        "    return 100 * nni_50(x) / len(x)\n",
        "\n",
        "def nni_20(x):\n",
        "    return sum(np.abs(np.diff(x)) > 20)\n",
        "\n",
        "def pnni_20(x):\n",
        "    return  100 * nni_20(x) / len(x)\n",
        "\n",
        "def avg_hr(x):\n",
        "    return  st.mean(60000/x)\n",
        "def std_hr(x):\n",
        "    return  st.stdev(60000/x)\n",
        "def min_hr(x):\n",
        "    return  min(60000/x)\n",
        "def max_hr(x):\n",
        "    return  max(60000/x)"
      ]
    },
    {
      "cell_type": "code",
      "execution_count": null,
      "id": "2c35b7b8",
      "metadata": {
        "id": "2c35b7b8"
      },
      "outputs": [],
      "source": [
        "def calc_ts_measures(measures):\n",
        "    RR_list = measures['RR_list']\n",
        "    RR_diff = measures['RR_diff']\n",
        "    RR_sqdiff = measures['RR_sqdiff']\n",
        "    measures = {}\n",
        "    measures['bpm'] = 60000 / np.mean(RR_list)\n",
        "    measures['ibi'] = np.mean(RR_list)\n",
        "    measures['sdnn'] = np.std(RR_list)\n",
        "    measures['sdsd'] = np.std(RR_diff)\n",
        "    measures['rmssd'] = np.sqrt(np.mean(RR_sqdiff))\n",
        "    measures['pnn20'] = sum(np.abs(np.diff(RR_list)) > 20)\n",
        "    measures['pnn50'] = sum(np.abs(np.diff(RR_list)) > 50)\n",
        "    return measures"
      ]
    },
    {
      "cell_type": "code",
      "execution_count": null,
      "id": "a3d88552",
      "metadata": {
        "colab": {
          "base_uri": "https://localhost:8080/"
        },
        "id": "a3d88552",
        "outputId": "f1f7073d-6a4f-4126-9196-19bfda1100f5"
      },
      "outputs": [
        {
          "output_type": "execute_result",
          "data": {
            "text/plain": [
              "{'bpm': 82.91457286432161,\n",
              " 'ibi': 723.6363636363636,\n",
              " 'sdnn': 136.93214824554713,\n",
              " 'sdsd': 103.15037566582102,\n",
              " 'rmssd': 242.98148077579904,\n",
              " 'pnn20': 10,\n",
              " 'pnn50': 10}"
            ]
          },
          "metadata": {},
          "execution_count": 17
        }
      ],
      "source": [
        "calc_ts_measures(RR_list)"
      ]
    },
    {
      "cell_type": "code",
      "execution_count": null,
      "id": "14f56270",
      "metadata": {
        "id": "14f56270"
      },
      "outputs": [],
      "source": []
    }
  ],
  "metadata": {
    "kernelspec": {
      "display_name": "Python 3 (ipykernel)",
      "language": "python",
      "name": "python3"
    },
    "language_info": {
      "codemirror_mode": {
        "name": "ipython",
        "version": 3
      },
      "file_extension": ".py",
      "mimetype": "text/x-python",
      "name": "python",
      "nbconvert_exporter": "python",
      "pygments_lexer": "ipython3",
      "version": "3.8.10"
    },
    "colab": {
      "provenance": [],
      "include_colab_link": true
    }
  },
  "nbformat": 4,
  "nbformat_minor": 5
}